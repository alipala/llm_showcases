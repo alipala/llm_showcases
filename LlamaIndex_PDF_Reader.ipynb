{
  "nbformat": 4,
  "nbformat_minor": 0,
  "metadata": {
    "colab": {
      "provenance": [],
      "authorship_tag": "ABX9TyMnQpaF6X6lWSOwYKOWjqVN",
      "include_colab_link": true
    },
    "kernelspec": {
      "name": "python3",
      "display_name": "Python 3"
    },
    "language_info": {
      "name": "python"
    }
  },
  "cells": [
    {
      "cell_type": "markdown",
      "metadata": {
        "id": "view-in-github",
        "colab_type": "text"
      },
      "source": [
        "<a href=\"https://colab.research.google.com/github/alipala/llm_showcases/blob/main/LlamaIndex_PDF_Reader.ipynb\" target=\"_parent\"><img src=\"https://colab.research.google.com/assets/colab-badge.svg\" alt=\"Open In Colab\"/></a>"
      ]
    },
    {
      "cell_type": "code",
      "execution_count": 10,
      "metadata": {
        "id": "qIyC1XmIVRWG"
      },
      "outputs": [],
      "source": [
        "%pip install -Uq llama-index"
      ]
    },
    {
      "cell_type": "code",
      "source": [
        "import getpass\n",
        "import os\n",
        "\n",
        "os.environ[\"OPENAI_API_KEY\"] = getpass.getpass(\"OpenAI API Key:\")"
      ],
      "metadata": {
        "colab": {
          "base_uri": "https://localhost:8080/"
        },
        "id": "kFHAryP7VZv-",
        "outputId": "3187cf9b-6850-4c11-dc15-9583a8f70577"
      },
      "execution_count": 11,
      "outputs": [
        {
          "name": "stdout",
          "output_type": "stream",
          "text": [
            "OpenAI API Key:··········\n"
          ]
        }
      ]
    },
    {
      "cell_type": "code",
      "source": [
        "from llama_index.core import VectorStoreIndex, SimpleDirectoryReader\n",
        "\n",
        "# SimpleDirectoryReader is more convenienet for plain text pdf rather than a complicated one has tables etc.\n",
        "reader = SimpleDirectoryReader(input_dir=\"./data/\")\n",
        "documents = reader.load_data()\n",
        "index = VectorStoreIndex.from_documents(documents)\n",
        "\n",
        "# Initializers for the retrievers(query engine) so that you can ask questions to\n",
        "query_engine = index.as_query_engine()\n",
        "\n",
        "response = query_engine.query(\"What is the first article?\")\n",
        "print(response)"
      ],
      "metadata": {
        "colab": {
          "base_uri": "https://localhost:8080/"
        },
        "id": "HqpbutTmVdD6",
        "outputId": "c165e08e-8697-4f79-af48-e369ba94f3f8"
      },
      "execution_count": 12,
      "outputs": [
        {
          "output_type": "stream",
          "name": "stdout",
          "text": [
            "The first article is about establishing the legislative powers vested in a Congress of the United States, consisting of a Senate and House of Representatives.\n"
          ]
        }
      ]
    },
    {
      "cell_type": "code",
      "source": [
        "len(documents)"
      ],
      "metadata": {
        "colab": {
          "base_uri": "https://localhost:8080/"
        },
        "id": "qji8vR0vjNOZ",
        "outputId": "9af405d5-2b2f-472b-d145-43303eeeb1de"
      },
      "execution_count": 21,
      "outputs": [
        {
          "output_type": "execute_result",
          "data": {
            "text/plain": [
              "19"
            ]
          },
          "metadata": {},
          "execution_count": 21
        }
      ]
    },
    {
      "cell_type": "code",
      "source": [
        "type(documents)"
      ],
      "metadata": {
        "colab": {
          "base_uri": "https://localhost:8080/"
        },
        "id": "SrYIKhbKjfg1",
        "outputId": "0f7eab6d-0d65-4d86-ec22-0d799a4ea58f"
      },
      "execution_count": 22,
      "outputs": [
        {
          "output_type": "execute_result",
          "data": {
            "text/plain": [
              "list"
            ]
          },
          "metadata": {},
          "execution_count": 22
        }
      ]
    },
    {
      "cell_type": "code",
      "source": [
        "print(documents[1].text)"
      ],
      "metadata": {
        "colab": {
          "base_uri": "https://localhost:8080/"
        },
        "id": "xJWw8vKxjiZY",
        "outputId": "0f63d91c-511b-47de-a689-a3c2eebcab6e"
      },
      "execution_count": 24,
      "outputs": [
        {
          "output_type": "stream",
          "name": "stdout",
          "text": [
            "C O N S T I T U T I O N O F T H E U N I T E D S T A T E S   \n",
            " \n",
            " \n",
            " \n",
            "We the People of the United States, in Order to form a \n",
            "more perfect Union, establish Justice, insure domestic \n",
            "Tranquility, provide for the common defence, promote \n",
            "the general  Welfare, and secure the Blessings of Liberty to \n",
            "ourselves  and our Posterity,  do ordain  and establish  this \n",
            "Constitution for the United States of America  \n",
            " \n",
            " \n",
            "Article.   I. \n",
            "SECTION.  1 \n",
            "All legislative Powers herein granted shall be vested in a \n",
            "Congress of the United States, which shall consist of a Sen-  \n",
            "ate and House of Representatives. \n",
            "SECTI ON. 2 \n",
            "The House of Representatives shall be composed of Mem-  \n",
            "bers chosen every second Year by the People of the several States, and the Electors in each State shall have the Qualifi-  \n",
            "cations requisite for Electors of the most numerous Branch \n",
            "of the State Legislature.  \n",
            "No Person shall be a Representative who shall not have \n",
            "attained to the Age of twenty five Years, and been seven \n",
            "Years a Citizen of the United States, and who shal l not, \n",
            "when elected, be an Inhabitant of that State in which he shall be chosen.  \n",
            "[Representatives and direct Taxes shall be apportioned among the several States which may be included within  \n",
            "this Union, according to their respective Numbers, which \n",
            "shall be determined by adding to the whole Number of  \n",
            "free Persons, including those bound to Service for a  Term \n",
            "of Years, and excluding Indians not taxed, three fifths of  \n",
            "all other Persons.]*  The actual Enumeration shall be made  within three Years after the first M eeting of the Congress  \n",
            "of the United States, and within every subsequent  Term of \n",
            "ten Years, in such Manner as they shall by Law direct. The \n",
            "Number of Representatives shall not exceed one for every \n",
            "thirty Thousand, but each State shall have at Least one \n",
            "Representative; and until such enumeration shall be made, \n",
            "the State of New Hampshire shall be entitled to chuse  \n",
            "three, Massachusetts eight, Rhode -Island and Providence \n",
            "Plantations one, Connecticut five, New -York six, New \n",
            "Jersey four, Pennsylvania eight, Delaw are one, Maryland  \n",
            "six, Virginia ten, North Carolina five, South Carolina five, \n",
            "and Georgia three.  \n",
            "When vacancies happen in the Representation from any \n",
            "State, the Executive Authority thereof shall issue  Writs of \n",
            "Election to fill such Vacancies.  \n",
            "The House of  Representatives shall chuse their \n",
            "Speaker and other Officers; and shall have the sole Power of Impeachment.  \n",
            "SECTION.  3 \n",
            "The Senate of the United States shall be composed of two Senators from each State, [chosen by the Legislature there - \n",
            "of,]* for six Years; and each Senator shall have one Vote.  \n",
            "Immediately after they shall be assembled in Consequence of the first Election, they shall be divided as equally as may \n",
            "be into three Classes. The Seats of the Senators of the first \n",
            "Class shall be vacated at the Expiration of the second Year, \n",
            "of the second  Class  at the Expiration of the fourth Year, and \n",
            "of the third Class at the Expiration of the sixth Year, so that \n",
            "one third may be chosen every second Year; [and if Vacan-  \n",
            "cies happen by Resignation, or otherwise, during the Recess of the Legislature of any State, the Executive thereof may make temporary Appointments until the next Mee ting of  \n",
            "the Legislature, which shall then fill such Vacancies.]*  \n",
            "\n"
          ]
        }
      ]
    },
    {
      "cell_type": "code",
      "source": [
        "import os.path\n",
        "from llama_index.core import (\n",
        "    VectorStoreIndex,\n",
        "    SimpleDirectoryReader,\n",
        "    StorageContext,\n",
        "    load_index_from_storage,\n",
        ")\n",
        "\n",
        "# check if storage already exists\n",
        "PERSIST_DIR = \"./storage\"\n",
        "\n",
        "if not os.path.exists(PERSIST_DIR):\n",
        "    # load documents and create the index\n",
        "    documents = SimpleDirectoryReader(\"data\").load_data()\n",
        "    index = VectorStoreIndex.from_documents(documents)\n",
        "\n",
        "    # store it for later\n",
        "    index.storage_context.persist(persist_dir=PERSIST_DIR)\n",
        "else:\n",
        "  # load the existing index\n",
        "  storage_context = StorageContext.from_defaults(persist_dir=PERSIST_DIR)\n",
        "  index = load_index_from_storage(storage_context)\n",
        "\n",
        "# either way we can query the index\n",
        "query_engine = index.as_query_engine()\n",
        "response = query_engine.query(\"What is the third article?\")\n",
        "print(response)"
      ],
      "metadata": {
        "colab": {
          "base_uri": "https://localhost:8080/"
        },
        "id": "-Ap9DgyZf8w5",
        "outputId": "6acfa68e-5690-446e-baa4-939f61fbba31"
      },
      "execution_count": 15,
      "outputs": [
        {
          "output_type": "stream",
          "name": "stdout",
          "text": [
            "The third article discusses the admission of new states into the Union, outlining the process and restrictions for forming new states within the jurisdiction of existing states. It also grants Congress the power to regulate territories and properties belonging to the United States. Additionally, it ensures that each state in the Union is guaranteed a republican form of government and protection against invasion and domestic violence.\n"
          ]
        }
      ]
    },
    {
      "cell_type": "code",
      "source": [
        "import getpass\n",
        "import os\n",
        "\n",
        "os.environ[\"LLAMA_CLOUD_API_KEY\"] = getpass.getpass(\"LLMA Cloud API Key:\")"
      ],
      "metadata": {
        "colab": {
          "base_uri": "https://localhost:8080/"
        },
        "id": "En3gfUNvmVzx",
        "outputId": "abde828b-db14-4a53-cd83-60889b74b2a2"
      },
      "execution_count": 32,
      "outputs": [
        {
          "name": "stdout",
          "output_type": "stream",
          "text": [
            "LLMA Cloud API Key:··········\n"
          ]
        }
      ]
    },
    {
      "cell_type": "code",
      "source": [
        "import nest_asyncio\n",
        "\n",
        "nest_asyncio.apply()"
      ],
      "metadata": {
        "id": "pNoqMKNjmzZF"
      },
      "execution_count": 33,
      "outputs": []
    },
    {
      "cell_type": "code",
      "source": [
        "from llama_index.core import VectorStoreIndex\n",
        "from llama_parse import LlamaParse\n",
        "\n",
        "documents = LlamaParse(result_type=\"text\").load_data(\"./data/1137478 - 2022 - NL - Dutch Income tax return.pdf\")\n",
        "index = VectorStoreIndex.from_documents(documents)\n",
        "query_engine = index.as_query_engine()\n",
        "response = query_engine.query(\"what is Total income from current employment?\")\n",
        "print(response)"
      ],
      "metadata": {
        "colab": {
          "base_uri": "https://localhost:8080/"
        },
        "id": "v2RfHwuqm4Y4",
        "outputId": "5947fe30-4a34-4ecb-f77c-ecef6d0203e9"
      },
      "execution_count": 38,
      "outputs": [
        {
          "output_type": "stream",
          "name": "stdout",
          "text": [
            "Started parsing the file under job_id 220d0f29-ef64-4cb6-949b-2dd89bb96f8d\n",
            "Total income from current employment is 47.693.\n"
          ]
        }
      ]
    }
  ]
}