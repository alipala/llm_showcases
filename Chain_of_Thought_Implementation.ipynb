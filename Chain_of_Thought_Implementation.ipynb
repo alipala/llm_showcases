{
  "nbformat": 4,
  "nbformat_minor": 0,
  "metadata": {
    "colab": {
      "provenance": [],
      "authorship_tag": "ABX9TyPlX2Aq8rOjTEeuz4/XSc1t",
      "include_colab_link": true
    },
    "kernelspec": {
      "name": "python3",
      "display_name": "Python 3"
    },
    "language_info": {
      "name": "python"
    }
  },
  "cells": [
    {
      "cell_type": "markdown",
      "metadata": {
        "id": "view-in-github",
        "colab_type": "text"
      },
      "source": [
        "<a href=\"https://colab.research.google.com/github/alipala/llm_showcases/blob/main/Chain_of_Thought_Implementation.ipynb\" target=\"_parent\"><img src=\"https://colab.research.google.com/assets/colab-badge.svg\" alt=\"Open In Colab\"/></a>"
      ]
    },
    {
      "cell_type": "code",
      "source": [
        "!pip install --upgrade openai"
      ],
      "metadata": {
        "colab": {
          "base_uri": "https://localhost:8080/"
        },
        "collapsed": true,
        "id": "lyINyVl4juMu",
        "outputId": "de41d2be-3e5e-4c20-a15a-6b63058206e7"
      },
      "execution_count": 4,
      "outputs": [
        {
          "output_type": "stream",
          "name": "stdout",
          "text": [
            "Requirement already satisfied: openai in /usr/local/lib/python3.10/dist-packages (1.45.0)\n",
            "Requirement already satisfied: anyio<5,>=3.5.0 in /usr/local/lib/python3.10/dist-packages (from openai) (3.7.1)\n",
            "Requirement already satisfied: distro<2,>=1.7.0 in /usr/lib/python3/dist-packages (from openai) (1.7.0)\n",
            "Requirement already satisfied: httpx<1,>=0.23.0 in /usr/local/lib/python3.10/dist-packages (from openai) (0.27.2)\n",
            "Requirement already satisfied: jiter<1,>=0.4.0 in /usr/local/lib/python3.10/dist-packages (from openai) (0.5.0)\n",
            "Requirement already satisfied: pydantic<3,>=1.9.0 in /usr/local/lib/python3.10/dist-packages (from openai) (2.9.1)\n",
            "Requirement already satisfied: sniffio in /usr/local/lib/python3.10/dist-packages (from openai) (1.3.1)\n",
            "Requirement already satisfied: tqdm>4 in /usr/local/lib/python3.10/dist-packages (from openai) (4.66.5)\n",
            "Requirement already satisfied: typing-extensions<5,>=4.11 in /usr/local/lib/python3.10/dist-packages (from openai) (4.12.2)\n",
            "Requirement already satisfied: idna>=2.8 in /usr/local/lib/python3.10/dist-packages (from anyio<5,>=3.5.0->openai) (3.8)\n",
            "Requirement already satisfied: exceptiongroup in /usr/local/lib/python3.10/dist-packages (from anyio<5,>=3.5.0->openai) (1.2.2)\n",
            "Requirement already satisfied: certifi in /usr/local/lib/python3.10/dist-packages (from httpx<1,>=0.23.0->openai) (2024.8.30)\n",
            "Requirement already satisfied: httpcore==1.* in /usr/local/lib/python3.10/dist-packages (from httpx<1,>=0.23.0->openai) (1.0.5)\n",
            "Requirement already satisfied: h11<0.15,>=0.13 in /usr/local/lib/python3.10/dist-packages (from httpcore==1.*->httpx<1,>=0.23.0->openai) (0.14.0)\n",
            "Requirement already satisfied: annotated-types>=0.6.0 in /usr/local/lib/python3.10/dist-packages (from pydantic<3,>=1.9.0->openai) (0.7.0)\n",
            "Requirement already satisfied: pydantic-core==2.23.3 in /usr/local/lib/python3.10/dist-packages (from pydantic<3,>=1.9.0->openai) (2.23.3)\n"
          ]
        }
      ]
    },
    {
      "cell_type": "code",
      "execution_count": 17,
      "metadata": {
        "id": "xQ-RQEAVjFrD"
      },
      "outputs": [],
      "source": [
        "import openai\n",
        "import logging\n",
        "from openai import OpenAI\n",
        "\n",
        "# Initialize the OpenAI client\n",
        "client = OpenAI(api_key=\"YOUR_API_KEY\")"
      ]
    },
    {
      "cell_type": "markdown",
      "source": [
        "# Generate response"
      ],
      "metadata": {
        "id": "znZsPJrrrMbp"
      }
    },
    {
      "cell_type": "code",
      "source": [
        "def generate_response(prompt, use_cot=False):\n",
        "    \"\"\"Generate a response using GPT-3.5-turbo, optionally with Chain of Thought reasoning.\"\"\"\n",
        "    if use_cot:\n",
        "        system_message = \"\"\"Solve the problem step by step. Show your work clearly:\n",
        "        1. State what you're calculating in each step.\n",
        "        2. Show the calculation.\n",
        "        3. Briefly explain the result.\n",
        "        4. Provide a final answer.\"\"\"\n",
        "    else:\n",
        "        system_message = \"Solve the problem concisely but show key steps.\"\n",
        "\n",
        "    response = client.chat.completions.create(\n",
        "        model=\"gpt-3.5-turbo\",\n",
        "        messages=[\n",
        "            {\"role\": \"system\", \"content\": system_message},\n",
        "            {\"role\": \"user\", \"content\": f\"Problem: {prompt}\"}\n",
        "        ],\n",
        "        max_tokens=300,\n",
        "        temperature=0.5,\n",
        "    )\n",
        "\n",
        "    return response.choices[0].message.content.strip()"
      ],
      "metadata": {
        "id": "gAutsICPrMEW"
      },
      "execution_count": 18,
      "outputs": []
    },
    {
      "cell_type": "markdown",
      "source": [
        "# Analyze response"
      ],
      "metadata": {
        "id": "ebPscTrgrTcj"
      }
    },
    {
      "cell_type": "code",
      "source": [
        "def analyze_response(response, is_cot=False):\n",
        "    \"\"\"Analyze the generated response, including quality and logical flow.\"\"\"\n",
        "    print(f\"\\n{'Chain of Thought' if is_cot else 'Standard'} Response:\")\n",
        "    print(response)\n",
        "\n",
        "    steps = [step for step in response.split('\\n') if step.strip()]\n",
        "    print(f\"\\nAnalysis:\")\n",
        "    print(f\"Number of steps: {len(steps)}\")\n",
        "\n",
        "    coherence = \"High\" if len(steps) > 1 and all(any(word in step.lower() for word in [\"step\", \"calculate\", \"=\", \"$\"]) for step in steps) else \"Low\"\n",
        "    completeness = \"Complete\" if any(word in response.lower() for word in [\"therefore\", \"total\", \"final\"]) and \"$86.40\" in response else \"Incomplete\"\n",
        "\n",
        "    print(f\"Coherence: {coherence}\")\n",
        "    print(f\"Completeness: {completeness}\")\n",
        "\n",
        "    return {\"coherence\": coherence, \"completeness\": completeness, \"num_steps\": len(steps)}\n"
      ],
      "metadata": {
        "id": "OYZMPTRMrTK9"
      },
      "execution_count": 19,
      "outputs": []
    },
    {
      "cell_type": "markdown",
      "source": [
        "# Example problem"
      ],
      "metadata": {
        "id": "1xoToIYKrdx6"
      }
    },
    {
      "cell_type": "code",
      "source": [
        "prompt = \"\"\"\n",
        "A store is having a sale: buy 2 items, get 1 free. Each item normally costs $20.\n",
        "If a customer buys 6 items during this sale, how much will they spend in total, including 8% sales tax?\n",
        "\"\"\""
      ],
      "metadata": {
        "id": "VryybxRdjs45"
      },
      "execution_count": 20,
      "outputs": []
    },
    {
      "cell_type": "markdown",
      "source": [
        "# Responses"
      ],
      "metadata": {
        "id": "PoeWOGN9pUVp"
      }
    },
    {
      "cell_type": "code",
      "source": [
        "print(\"Standard Response:\")\n",
        "standard_response = generate_response(prompt, use_cot=False)\n",
        "standard_analysis = analyze_response(standard_response)\n",
        "\n",
        "print(\"\\nChain of Thought Response:\")\n",
        "cot_response = generate_response(prompt, use_cot=True)\n",
        "cot_analysis = analyze_response(cot_response, is_cot=True)"
      ],
      "metadata": {
        "colab": {
          "base_uri": "https://localhost:8080/"
        },
        "id": "ys3X7rberoHZ",
        "outputId": "bd67cc8b-d400-4bf1-f1ce-54da95fdb320"
      },
      "execution_count": 21,
      "outputs": [
        {
          "output_type": "stream",
          "name": "stdout",
          "text": [
            "Standard Response:\n",
            "\n",
            "Standard Response:\n",
            "To calculate the total cost for the customer:\n",
            "1. The customer will pay for 4 items (buy 2, get 1 free for each set of 3 items).\n",
            "2. The total cost for these 4 items is $20 * 4 = $80.\n",
            "3. Adding 8% sales tax to $80 gives $80 * 0.08 = $6.40.\n",
            "4. The total amount the customer will spend is $80 + $6.40 = $86.40.\n",
            "\n",
            "Analysis:\n",
            "Number of steps: 5\n",
            "Coherence: Low\n",
            "Completeness: Complete\n",
            "\n",
            "Chain of Thought Response:\n",
            "\n",
            "Chain of Thought Response:\n",
            "Step 1: Calculate the total number of items the customer will pay for.\n",
            "The customer buys 6 items, and for every 2 items, they get 1 free. So, for 6 items, the customer will pay for 4 items.\n",
            "\n",
            "4 items = 6 items - 2 free items\n",
            "\n",
            "Step 2: Calculate the total cost of the items before the sales tax.\n",
            "Each item costs $20, and the customer is buying 4 items.\n",
            "Total cost before sales tax = $20/item * 4 items\n",
            "\n",
            "Total cost before sales tax = $80\n",
            "\n",
            "Step 3: Calculate the sales tax amount.\n",
            "The sales tax rate is 8%.\n",
            "Sales tax amount = 8% * $80\n",
            "\n",
            "Sales tax amount = 0.08 * $80\n",
            "Sales tax amount = $6.40\n",
            "\n",
            "Step 4: Calculate the total amount the customer will spend, including sales tax.\n",
            "Total amount = Total cost before sales tax + Sales tax amount\n",
            "Total amount = $80 + $6.40\n",
            "Total amount = $86.40\n",
            "\n",
            "Therefore, the customer will spend a total of $86.40, including 8% sales tax, when buying 6 items during the sale.\n",
            "\n",
            "Analysis:\n",
            "Number of steps: 17\n",
            "Coherence: Low\n",
            "Completeness: Complete\n"
          ]
        }
      ]
    },
    {
      "cell_type": "markdown",
      "source": [
        "# Comparison"
      ],
      "metadata": {
        "id": "WOlGmwhRrq8f"
      }
    },
    {
      "cell_type": "code",
      "source": [
        "print(\"\\nComparison:\")\n",
        "print(f\"Standard response length: {len(standard_response.split())}\")\n",
        "print(f\"CoT response length: {len(cot_response.split())}\")\n",
        "print(f\"Standard coherence: {standard_analysis['coherence']}, completeness: {standard_analysis['completeness']}\")\n",
        "print(f\"CoT coherence: {cot_analysis['coherence']}, completeness: {cot_analysis['completeness']}\")"
      ],
      "metadata": {
        "colab": {
          "base_uri": "https://localhost:8080/"
        },
        "id": "0XLH78HFrtC6",
        "outputId": "0d655c01-1743-4a0f-9898-531f200ff497"
      },
      "execution_count": 16,
      "outputs": [
        {
          "output_type": "stream",
          "name": "stdout",
          "text": [
            "\n",
            "Comparison:\n",
            "Standard response length: 116\n",
            "CoT response length: 185\n",
            "Standard coherence: High, completeness: Incomplete\n",
            "CoT coherence: Low, completeness: Complete\n"
          ]
        }
      ]
    }
  ]
}